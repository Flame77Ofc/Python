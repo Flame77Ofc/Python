{
 "cells": [
  {
   "cell_type": "code",
   "execution_count": null,
   "id": "ea9a9b39",
   "metadata": {},
   "outputs": [],
   "source": [
    "import numpy as np\n",
    "\n",
    "# np.array([array]) -> Cria um array\n",
    "array = np.array([1, 2, 3])\n",
    "print(array)\n",
    "\n",
    "\n",
    "lista = [1, 2, 3], [4, 5, 6]\n",
    "array = np.array(lista) # Cria um array bidimensional, isso é, com linhas e colunas\n",
    "print(array)\n",
    "\"\"\"[[ 1  2  3]\n",
    " [ 4  5  6]\n",
    " [ 7  8  9]\n",
    " [10 11 12]]\"\"\"\n",
    "\n",
    "proporcao = array.shape # Retorna a dimensão do array, ou seja, a sua proporção\n",
    "print(proporcao) # (4, 3) -> 4x3 (4 linhas, 3 colunas)\n",
    "itens = array.size # Retorna a quantidade de itens que o array apresenta\n",
    "print(itens) # 12 -> São 12 elementos"
   ]
  },
  {
   "cell_type": "code",
   "execution_count": null,
   "id": "66be76be",
   "metadata": {},
   "outputs": [],
   "source": [
    "import numpy as np\n",
    "\n",
    "# np.zeros(numero) -> Cria um array unidimensional preenchido com 0's\n",
    "array = np.zeros(5) # -> Cria um array com 5 zeros\n",
    "print(array) # [0. 0. 0. 0. 0.]\n",
    "\n",
    "# np.zeros((linha, coluna)) -> Cria um array bidimensional preenchido com 0's com proporção\n",
    "array = np.zeros((3, 2)) # Cria um array 2x3 preenchido por zeros \n",
    "print(array)\n",
    "\"\"\"[[0. 0.]\n",
    " [0. 0.]\n",
    " [0. 0.]]\"\"\"\n"
   ]
  },
  {
   "cell_type": "code",
   "execution_count": null,
   "id": "853f1fd2",
   "metadata": {},
   "outputs": [],
   "source": [
    "import numpy as np\n",
    "\n",
    "# np.ones(numero) -> Cria um array unidimensional preenchido com 1's\n",
    "array = np.ones(5)\n",
    "print(array) # [1. 1. 1. 1. 1.]\n",
    "\n",
    "# np.ones((linha, coluna)) -> Cria um array bidimensional preenchido com 1's com proporção, isso é, linhas e colunas\n",
    "array = np.ones((6,4))\n",
    "print(array)\n",
    "\"\"\"[[1. 1. 1. 1.]\n",
    " [1. 1. 1. 1.]\n",
    " [1. 1. 1. 1.]\n",
    " [1. 1. 1. 1.]\n",
    " [1. 1. 1. 1.]\n",
    " [1. 1. 1. 1.]]\"\"\"\n"
   ]
  },
  {
   "cell_type": "code",
   "execution_count": null,
   "id": "643ac9fb",
   "metadata": {},
   "outputs": [],
   "source": [
    "import numpy as np\n",
    "\n",
    "# np.arange(inicio, fim, passos) -> Gera um array com números que começam desde o número inicial até o número final-1, isso é, se o número final for igual a 15, terminará em 14.\n",
    "array = np.arange(1, 11) # Gera um array de 1 até 10\n",
    "print(array) # [ 1  2  3  4  5  6  7  8  9 10]\n",
    "\n",
    "array = np.arange(0, 11, 2) # Gera um array de 0 até 10 pulando de 2 em 2 números\n",
    "print(array) # [ 0  2  4  6  8 10]\n",
    "\n",
    "\n",
    "# np.random.choice(array) -> Escolhe um item aleatório do array\n",
    "array = np.random.choice([1, 2, 3, 4, 5]) # Escolhe um número aleatório entre 1 a 5\n",
    "print(array) # 3\n",
    "\n",
    "# np.random.choice(array, (numero)) -> Escolhe itens aleatórios de um array\n",
    "array = np.array([0, 2, 4, 6, 8, 10, 12, 14, 16, 18, 20])\n",
    "array = np.random.choice(array, (5)) # Escolhe 5 números aleatórios entre 0 a 20\n",
    "print(array) # [ 2 10  0 10  6]\n",
    "\n",
    "array = np.random.choice(array, (3, 2)) # Escolhe 6 números aleatórios, contendo uma proporção de 3x2\n",
    "print(array)\n",
    "# \"\"\"[[18  0]\n",
    "#  [ 2  0]\n",
    "#  [18  2]]\"\"\"\n",
    "\n",
    "\n",
    "# np.random.randint(inicio, fim, quantidade) -> Gera números aleatórios entre o número inicial e o número final, com a quantidade indicando a quantidade de números a serem gerados\n",
    "array = np.random.randint(1, 51, 5) # Gera 5 números de 1 até 51 \n",
    "print(array) # [ 8 47 11 12 38]"
   ]
  },
  {
   "cell_type": "code",
   "execution_count": null,
   "id": "0932717e",
   "metadata": {},
   "outputs": [],
   "source": [
    "import numpy as np\n",
    "\n",
    "# Métodos\n",
    "array = np.array([1, 2, 3, 4, 5, 6, 7, 8, 9, 10])\n",
    "print(array) # [ 1  2  3  4  5  6  7  8  9 10]\n",
    "\n",
    "soma = array.sum()\n",
    "media = array.mean()\n",
    "maior = array.max()\n",
    "menor = array.min()\n",
    "unicos = np.unique(array)\n",
    "print(soma, media, maior, menor, unicos)"
   ]
  },
  {
   "cell_type": "code",
   "execution_count": null,
   "id": "6a6c2182",
   "metadata": {},
   "outputs": [],
   "source": [
    "import numpy as np\n",
    "\n",
    "# Indexação e Fatiação\n",
    "# Acessando elementos de um array unidimensional\n",
    "# array[item]\n",
    "array = np.arange(1, 16)\n",
    "print(array) # [ 1  2  3  4  5  6  7  8  9 10 11 12 13 14 15]\n",
    "print(array[0]) # 1\n",
    "print(array[4:8]) # [5 6 7 8]\n",
    "\n",
    "# Acessando elementos de um array bidimensional\n",
    "# array[linha][coluna]\n",
    "array = np.array([[1, 2, 3], [4, 5, 6]])\n",
    "print(array)\n",
    "\"\"\"[[1 2 3]\n",
    " [4 5 6]]\"\"\"\n",
    "print(array[0]) # [1 2 3] -> Acessa a primeira coluna\n",
    "print(array[0][0]) # 1 -> Acessa a primeira coluna e o item no índice 0\n",
    "print(array[1][2]) # 6 -> Acessa a segunda coluna e o item no índice 2\n"
   ]
  },
  {
   "cell_type": "code",
   "execution_count": null,
   "id": "b8c19926",
   "metadata": {},
   "outputs": [],
   "source": [
    "import numpy as np\n",
    "\n",
    "# np.concatenate([array1, array2, ...]) -> Concatena arrays\n",
    "array1 = np.arange(1, 4)\n",
    "array2 = np.arange(4, 7)\n",
    "\n",
    "array = np.concatenate([array1, array2])\n",
    "print(array) # [1 2 3 4 5 6]\n",
    "\n",
    "array = np.concatenate([array2, array1])\n",
    "print(array) # [4 5 6 1 2 3]\n"
   ]
  },
  {
   "cell_type": "code",
   "execution_count": null,
   "id": "067e1c8d",
   "metadata": {},
   "outputs": [],
   "source": [
    "import numpy as np\n",
    "\n",
    "# np.reshape(linha, coluna) -> Reorganiza um array para um novo formato, desde que a multiplicação entre as dimensões seja igual ao número total de elementos no array. Exemplo: se um array possuir 15 elementos, só pode ser feito um reshape com os valores 3x5, 5x3, 15x1, 1x15, pois o número da coluna multiplicado com o da linha deve dar o resultado do total de elementos. Sendo assim, números primos só podem ter reshape entre 1 e ele mesmo, por exemplo, se o array possuir 7 elementos, então só pode ser feito o reshape com os valores de 1x7 (normal) e 7x1.\n",
    "array = np.arange(30)\n",
    "\n",
    "array = array.reshape(2, 15)\n",
    "print(array)\n",
    "\"\"\"[[ 0  1  2  3  4  5  6  7  8  9 10 11 12 13 14]\n",
    " [15 16 17 18 19 20 21 22 23 24 25 26 27 28 29]]\"\"\"\n",
    "\n",
    "array = np.arange(25).reshape(5, 5)\n",
    "print(array)\n",
    "\"\"\"[[ 0  1  2  3  4]\n",
    " [ 5  6  7  8  9]\n",
    " [10 11 12 13 14]\n",
    " [15 16 17 18 19]\n",
    " [20 21 22 23 24]]\"\"\"\n"
   ]
  },
  {
   "cell_type": "code",
   "execution_count": null,
   "id": "14b29996",
   "metadata": {},
   "outputs": [],
   "source": [
    "import numpy as np\n",
    "\n",
    "# array.sort() -> Ordena elementos, axis = 0 ordena na vertical (colunas) e axis = 1 ordena na horizontal (linhas)\n",
    "array = np.array([[9, 4, 5],\n",
    "                  [7, 2, 1],\n",
    "                  [6, 8, 1]])\n",
    "array.sort(axis=0) # Ordena os itens em coluna\n",
    "print(array)\n",
    "\n",
    "array = np.array([[9, 4, 5],\n",
    "                  [7, 2, 1],\n",
    "                  [6, 8, 1]])\n",
    "array.sort(axis=1) # Ordena os itens em linha\n",
    "print(array)\n",
    "\n",
    "# array.sort() + np.flipud(array) -> Ordena em ordem decrescente\n",
    "array = np.array([5, 8, 12, 3, 4, 0, 9])\n",
    "array.sort()\n",
    "array = np.flipud(array)\n",
    "print(array) # [12  9  8  5  4  3  0]\n"
   ]
  },
  {
   "cell_type": "code",
   "execution_count": null,
   "id": "ac5b2b34",
   "metadata": {},
   "outputs": [],
   "source": [
    "import numpy as np\n",
    "\n",
    "# np.split(array, numero) -> Divide um array em pedaços determinados pelo número especificado\n",
    "array = np.arange(6)\n",
    "\n",
    "array = np.split(array, 2) # Divide o array em 2 arrays menores\n",
    "print(array) # [array([0, 1, 2]), array([3, 4, 5])]\n"
   ]
  },
  {
   "cell_type": "code",
   "execution_count": null,
   "id": "db04ce69",
   "metadata": {},
   "outputs": [],
   "source": [
    "import numpy as np\n",
    "\n",
    "# np.append([array], ['item']) -> Adiciona um item no final do array\n",
    "array = np.array([1, 2])\n",
    "\n",
    "array = np.append(array, [3])\n",
    "print(array) # [1 2 3]\n",
    "\n",
    "\n",
    "array = np.append(array, [4, 5])\n",
    "print(array) # [1 2 3 4 5]\n",
    "\n",
    "\n",
    "# np.insert([array], posição, ['item']) -> Adiciona um determinado item na posição especificada\n",
    "array = np.array([1, 3, 4, 5])\n",
    "\n",
    "array = np.insert([array], 1, [2]) # Adiciona o item 2 no array, na posição 1\n",
    "print(array) # [1 2 3 4 5]\n",
    "\n",
    "array = np.insert([array], 5, [6, 7, 8, 9, 10]) # Adiciona os itens 6, 7, 8, 9, 10 no array, na posição 5\n",
    "print(array) # [ 1  2  3  4  5  6  7  8  9 10]\n",
    "\n",
    "\n",
    "# np.delete(array, posição(índice)) -> Deleta o item do array na posição especificada\n",
    "array = np.array([1, 2, 3])\n",
    "array = np.delete(array, 1) # Deleta o item da posição 1 do array (2)\n",
    "print(array) # [1 3]\n",
    "\n",
    "array = np.arange(1, 6)\n",
    "array = np.delete([array], [0, 1, 2]) # Deleta os itens da posição 0, 1, 2 do array (1, 2, 3)\n",
    "print(array) # [4 5]\n"
   ]
  },
  {
   "cell_type": "code",
   "execution_count": null,
   "id": "239a15ff",
   "metadata": {},
   "outputs": [],
   "source": [
    "import numpy as np\n",
    "\n",
    "# Condições e filtragem\n",
    "array = np.arange(1, 31)\n",
    "print(array) # [ 1  2  3  4  5  6  7  8  9 10 11 12 13 14 15 16 17 18 19 20 21 22 23 24 25 26 27 28 29 30]\n",
    "\n",
    "filtro = array >= 15\n",
    "print(array[filtro]) # [15 16 17 18 19 20 21 22 23 24 25 26 27 28 29 30]\n",
    "\n",
    "filtro = array == 50\n",
    "print(array[filtro]) # []"
   ]
  },
  {
   "cell_type": "code",
   "execution_count": 46,
   "id": "e825b5cc",
   "metadata": {},
   "outputs": [
    {
     "name": "stdout",
     "output_type": "stream",
     "text": [
      "[5 5 5]\n",
      "[[7 7 7 7]\n",
      " [7 7 7 7]]\n"
     ]
    },
    {
     "data": {
      "text/plain": [
       "'[[3 3 3 3]\\n [3 3 3 3]\\n [3 3 3 3]\\n [3 3 3 3]\\n [3 3 3 3]]'"
      ]
     },
     "execution_count": 46,
     "metadata": {},
     "output_type": "execute_result"
    }
   ],
   "source": [
    "import numpy as np\n",
    "\n",
    "# np.full(coluna, numero) -> Preenche apenas colunas com o número especificado\n",
    "array = np.full(3, 5)\n",
    "print(array) # [5 5 5]\n",
    "\n",
    "# np.full((linha, coluna), numero) -> Preenche as linhas e as colunas com o número especificado\n",
    "array = np.full((2, 4), 7)\n",
    "print(array)\n",
    "\"\"\"[[3 3 3 3]\n",
    " [3 3 3 3]\n",
    " [3 3 3 3]\n",
    " [3 3 3 3]\n",
    " [3 3 3 3]]\"\"\""
   ]
  }
 ],
 "metadata": {
  "kernelspec": {
   "display_name": "base",
   "language": "python",
   "name": "python3"
  },
  "language_info": {
   "codemirror_mode": {
    "name": "ipython",
    "version": 3
   },
   "file_extension": ".py",
   "mimetype": "text/x-python",
   "name": "python",
   "nbconvert_exporter": "python",
   "pygments_lexer": "ipython3",
   "version": "3.12.7"
  }
 },
 "nbformat": 4,
 "nbformat_minor": 5
}
