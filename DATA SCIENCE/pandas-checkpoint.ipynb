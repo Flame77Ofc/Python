{
 "cells": [
  {
   "cell_type": "code",
   "execution_count": null,
   "id": "a5718ec9-d539-41cb-a6ff-ccb7552cab3b",
   "metadata": {},
   "outputs": [],
   "source": [
    "import pandas as pd\n",
    "\n",
    "# Criando um dataframe a partir de um dicionário\n",
    "\n",
    "dados = {\n",
    "    'data': ['12/04/2025', '25/06/2025'],\n",
    "    'produto': ['arroz', 'feijão'],\n",
    "    'quantidade': [50, 55],\n",
    "    'preco': [12, 15]\n",
    "}\n",
    "\n",
    "df = pd.DataFrame(dados)\n",
    "display(df)"
   ]
  },
  {
   "cell_type": "code",
   "execution_count": null,
   "id": "0d59512e-630b-4da2-b47f-8bdc10e7b11b",
   "metadata": {},
   "outputs": [],
   "source": [
    "# Criando um dataframe a partir de um arquivo excel\n",
    "df = pd.read_excel('vendas.xlsx')\n",
    "display(df)"
   ]
  },
  {
   "cell_type": "code",
   "execution_count": null,
   "id": "8ba279fc-328f-47fa-9947-3f80815f40d2",
   "metadata": {},
   "outputs": [],
   "source": [
    "# Vendo qual o tamanho do dataframe\n",
    "tamanho = df.shape # (295, 7)\n"
   ]
  },
  {
   "cell_type": "code",
   "execution_count": null,
   "id": "3e1f428f-5110-430a-bffe-5e838f68a973",
   "metadata": {},
   "outputs": [],
   "source": [
    "# Um resumo do dataframe\n",
    "resumo = df.describe()\n",
    "display(resumo)\n"
   ]
  },
  {
   "cell_type": "code",
   "execution_count": null,
   "id": "6385e321-8685-4d0a-b357-9165783542cb",
   "metadata": {},
   "outputs": [],
   "source": [
    "# Atribuindo uma coluna a uma variável\n",
    "produtos = df['Produto']\n",
    "display(produtos)\n",
    "\n",
    "data_quantidade = df[['Data', 'Quantidade']]\n",
    "display(data_quantidade)\n",
    "\n"
   ]
  },
  {
   "cell_type": "code",
   "execution_count": null,
   "id": "c7fa93de-1436-458d-b5dd-d54106b9fd2d",
   "metadata": {
    "scrolled": true
   },
   "outputs": [],
   "source": [
    "\n",
    "# Pegar uma linha -> Usando o loc\n",
    "# loc([linha(s), [coluna(opcional)]])\n",
    "# display(df.loc[1])\n",
    "# display(df.loc[1:15])\n",
    "display(df.loc[:10, ['Produto']])"
   ]
  },
  {
   "cell_type": "code",
   "execution_count": null,
   "id": "0662fc80-f685-4d75-9131-2ea433f810ba",
   "metadata": {},
   "outputs": [],
   "source": [
    "# Filtrando todos os produtos que são apenas 'Camiseta'\n",
    "filtro = df['Produto'] == 'Camiseta'\n",
    "display(df[filtro])"
   ]
  },
  {
   "cell_type": "code",
   "execution_count": null,
   "id": "a328d139-d389-4762-96df-8502e799d7dc",
   "metadata": {},
   "outputs": [],
   "source": [
    "# Adicionando Colunas\n",
    "# Adicionando a partir de uma coluna que já existe\n",
    "df['Desconto'] = df['Valor Final'] * 0.05 # Verifica se já existe, se já existir, apenas substitui, mas se não existe, cria\n",
    "# display(df)\n",
    "\n",
    "# Criar uma coluna com valor padrão\n",
    "# df['Imposto'] = 0 # Por mais que é óbvio, isso não é recomendado em tabelas muito grandes.\n",
    "df.loc[:, ['Imposto']] = 0 # Isso é o mais recomendado\n",
    "display(df)"
   ]
  },
  {
   "cell_type": "code",
   "execution_count": null,
   "id": "ccc8bb6c-0ee1-4d65-a6c1-4683e17c174b",
   "metadata": {},
   "outputs": [],
   "source": []
  },
  {
   "cell_type": "code",
   "execution_count": null,
   "id": "a0ea9b2f-d709-43e3-98b3-215ea75c6cfa",
   "metadata": {},
   "outputs": [],
   "source": []
  },
  {
   "cell_type": "code",
   "execution_count": null,
   "id": "90dfc9d7-1d01-44a1-8431-73418baf9c10",
   "metadata": {},
   "outputs": [],
   "source": []
  },
  {
   "cell_type": "code",
   "execution_count": null,
   "id": "e9498a31-3224-4139-9f65-5f9e0e5b971b",
   "metadata": {},
   "outputs": [],
   "source": []
  },
  {
   "cell_type": "code",
   "execution_count": null,
   "id": "d374ff68-7e79-4b64-b5d5-77a4b52246fb",
   "metadata": {},
   "outputs": [],
   "source": []
  }
 ],
 "metadata": {
  "kernelspec": {
   "display_name": "Python 3 (ipykernel)",
   "language": "python",
   "name": "python3"
  },
  "language_info": {
   "codemirror_mode": {
    "name": "ipython",
    "version": 3
   },
   "file_extension": ".py",
   "mimetype": "text/x-python",
   "name": "python",
   "nbconvert_exporter": "python",
   "pygments_lexer": "ipython3",
   "version": "3.12.7"
  }
 },
 "nbformat": 4,
 "nbformat_minor": 5
}
