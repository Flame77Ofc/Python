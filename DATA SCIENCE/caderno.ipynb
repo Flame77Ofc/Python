{
 "cells": [
  {
   "cell_type": "code",
   "execution_count": null,
   "id": "9c78e179",
   "metadata": {},
   "outputs": [],
   "source": [
    "#    - Liste todas as pessoas com idade maior que 25 anos.\n",
    "#    - Encontre os funcionários que ganham mais de R$4000,00.\n",
    "#    - Mostre apenas as colunas 'nome' e 'salario'.\n",
    "#    - Ordene o DataFrame por salário em ordem decrescente.\n",
    "#    - Ordene por idade em ordem crescente.\n",
    "#    - Calcule a média do salário de todos os funcionários.\n",
    "#    - Encontre a idade mínima e máxima do DataFrame.\n",
    "#    - Agrupe por 'cargo' e calcule o salário médio de cada cargo.\n",
    "#    - Conte quantas pessoas há em cada cidade.\n",
    "#    - Adicione uma nova coluna 'bonus' com 10% do salário.\n",
    "#    - Substitua o cargo 'Estagiário' por 'Trainee'.\n",
    "#    - Encontre pessoas que são de 'São Paulo' **e** têm salário menor que R$4000,00.\n",
    "#    - Liste quem tem idade entre 20 e 27 anos.\n",
    "\n",
    "\n",
    "import pandas as pd\n",
    "\n",
    "data = {\n",
    "    'nome': ['Ana', 'Bruno', 'Clara', 'Diego', 'Elisa'],\n",
    "    'idade': [23, 30, 25, 28, 22],\n",
    "    'cidade': ['São Paulo', 'Rio de Janeiro', 'Belo Horizonte', 'Curitiba', 'Porto Alegre'],\n",
    "    'salario': [3500.00, 4200.50, 3800.75, 5000.00, 3200.25],\n",
    "    'cargo': ['Analista', 'Desenvolvedor', 'Analista', 'Gerente', 'Estagiário']\n",
    "}\n",
    "\n",
    "df = pd.DataFrame(data)\n",
    "display(df)\n",
    "\n",
    "filtro = df['idade'] > 25\n",
    "display(df[filtro])\n",
    "\n",
    "filtro = df['salario'] > 4000\n",
    "display(df[filtro])\n",
    "\n",
    "display(df[['nome', 'salario']])\n",
    "\n",
    "display(df.sort_values(by='salario', ascending=False))\n",
    "display(df.sort_values(by='idade', ascending=True))\n",
    "\n",
    "display(df['salario'].mean())\n",
    "\n",
    "display(df['idade'].min())\n",
    "display(df['idade'].max())\n",
    "\n",
    "\n",
    "df['bonus'] = df['salario'] * 0.10\n",
    "df['cargo'] = df['cargo'].replace('Estagiário', 'Trainee')\n",
    "\n",
    "filtro = (df['cidade'] == 'São Paulo') & (df['salario'] < 4000)\n",
    "display(df[filtro])\n",
    "\n",
    "filtro = (df['idade'] >= 20) & (df['idade'] <= 27)"
   ]
  },
  {
   "cell_type": "code",
   "execution_count": null,
   "id": "3bd28b83",
   "metadata": {},
   "outputs": [],
   "source": [
    "# Calcule o valor total de cada venda (Quantidade × Preço Unitário) e adicione como nova coluna\n",
    "# Qual a região que teve o maior volume de vendas (em quantidade)?\n",
    "import pandas as pd\n",
    "\n",
    "data = {\n",
    "    'Data': ['2023-01-01', '2023-01-01', '2023-01-02', '2023-01-02', '2023-01-03'],\n",
    "    'Produto': ['A', 'B', 'A', 'C', 'B'],\n",
    "    'Quantidade': [2, 5, 3, 1, 4],\n",
    "    'Preço Unitário': [10.50, 7.25, 10.50, 15.00, 7.25],\n",
    "    'Região': ['Norte', 'Sul', 'Norte', 'Leste', 'Oeste']\n",
    "}\n",
    "\n",
    "df = pd.DataFrame(data)\n",
    "\n",
    "df['Total'] = df['Quantidade'] * df['Preço Unitário']\n",
    "display(df)\n",
    "\n",
    "display(df[['Região', 'Quantidade']].max())\n"
   ]
  },
  {
   "cell_type": "code",
   "execution_count": null,
   "id": "46a896ce",
   "metadata": {},
   "outputs": [],
   "source": [
    "import pandas as pd\n",
    "\n",
    "# 14. Encontrar os 3 produtos mais baratos\n",
    "df = pd.DataFrame({\n",
    "    'produto': ['A', 'B', 'C', 'D', 'E', 'F', 'G'],\n",
    "    'preco': [150, 80, 200, 45, 120, 90, 300]\n",
    "})\n",
    "df = df.sort_values(by='preco', ascending=True, ignore_index=True)\n",
    "display(df[['produto', 'preco']])\n",
    "baratos = df.loc[:2]\n",
    "display(baratos)\n"
   ]
  },
  {
   "cell_type": "code",
   "execution_count": 109,
   "id": "119b512f",
   "metadata": {},
   "outputs": [
    {
     "data": {
      "text/html": [
       "<div>\n",
       "<style scoped>\n",
       "    .dataframe tbody tr th:only-of-type {\n",
       "        vertical-align: middle;\n",
       "    }\n",
       "\n",
       "    .dataframe tbody tr th {\n",
       "        vertical-align: top;\n",
       "    }\n",
       "\n",
       "    .dataframe thead th {\n",
       "        text-align: right;\n",
       "    }\n",
       "</style>\n",
       "<table border=\"1\" class=\"dataframe\">\n",
       "  <thead>\n",
       "    <tr style=\"text-align: right;\">\n",
       "      <th></th>\n",
       "      <th>nome</th>\n",
       "      <th>idade</th>\n",
       "      <th>trabalha</th>\n",
       "    </tr>\n",
       "  </thead>\n",
       "  <tbody>\n",
       "    <tr>\n",
       "      <th>0</th>\n",
       "      <td>pedro</td>\n",
       "      <td>27</td>\n",
       "      <td>True</td>\n",
       "    </tr>\n",
       "    <tr>\n",
       "      <th>1</th>\n",
       "      <td>joão</td>\n",
       "      <td>38</td>\n",
       "      <td>vazio</td>\n",
       "    </tr>\n",
       "    <tr>\n",
       "      <th>2</th>\n",
       "      <td>matheus</td>\n",
       "      <td>15</td>\n",
       "      <td>vazio</td>\n",
       "    </tr>\n",
       "    <tr>\n",
       "      <th>3</th>\n",
       "      <td>tiago</td>\n",
       "      <td>8</td>\n",
       "      <td>False</td>\n",
       "    </tr>\n",
       "  </tbody>\n",
       "</table>\n",
       "</div>"
      ],
      "text/plain": [
       "      nome  idade trabalha\n",
       "0    pedro     27     True\n",
       "1     joão     38    vazio\n",
       "2  matheus     15    vazio\n",
       "3    tiago      8    False"
      ]
     },
     "metadata": {},
     "output_type": "display_data"
    }
   ],
   "source": [
    "import pandas as pd\n",
    "\n",
    "df = pd.DataFrame({\n",
    "    'nome': ['pedro', 'joão', 'matheus', 'tiago'],\n",
    "    'idade': [27, 38, 15, 8],\n",
    "    'trabalha': [True, None, None, False]\n",
    "})\n",
    "\n",
    "df = df.fillna('vazio')\n",
    "display(df)"
   ]
  },
  {
   "cell_type": "code",
   "execution_count": null,
   "id": "9e2c4fc6",
   "metadata": {},
   "outputs": [
    {
     "data": {
      "text/plain": [
       "nome     João\n",
       "idade      26\n",
       "Name: 1, dtype: object"
      ]
     },
     "metadata": {},
     "output_type": "display_data"
    }
   ],
   "source": [
    "# Lindando com Series = arrays uni-dimensionais\n",
    "import pandas as pd\n",
    "\n",
    "df = pd.DataFrame({\n",
    "    'nome': ['Pedro', 'João', 'Maria'],\n",
    "    'idade': [15, 26, 14]\n",
    "})\n",
    "\n",
    "s = df.iloc[1]\n",
    "display(s)\n",
    "\n",
    "# Uma Series é tudo aquilo que possui uma dimensão, logo, s (s = df.iloc[1]) é sim uma Series, é uma coluna da tabela do DataFrame, então s é considerado um Series"
   ]
  }
 ],
 "metadata": {
  "kernelspec": {
   "display_name": "base",
   "language": "python",
   "name": "python3"
  },
  "language_info": {
   "codemirror_mode": {
    "name": "ipython",
    "version": 3
   },
   "file_extension": ".py",
   "mimetype": "text/x-python",
   "name": "python",
   "nbconvert_exporter": "python",
   "pygments_lexer": "ipython3",
   "version": "3.12.7"
  }
 },
 "nbformat": 4,
 "nbformat_minor": 5
}
