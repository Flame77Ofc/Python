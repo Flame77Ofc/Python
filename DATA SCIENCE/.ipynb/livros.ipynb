{
 "cells": [
  {
   "cell_type": "code",
   "execution_count": null,
   "id": "510da1ec",
   "metadata": {},
   "outputs": [],
   "source": [
    "import pandas as pd\n",
    "\n",
    "dados = {\n",
    "    'clima': ['limpo', 'chuvoso', 'nublado', 'chuvoso', 'chuvoso', 'limpo', 'nublado', 'limpo', 'nublado'],\n",
    "    'dia': [12, 13, 14, 15, 16, 17, 18, 19, 20]\n",
    "}\n",
    "\n",
    "df = pd.DataFrame(dados)\n",
    "filtro =(df['clima'] == 'limpo') & (df['dia'] > 16) # Filtrando os dias em que estava limpo, sendo que estão sendo filtrados os dias maiores que 16\n",
    "display(df[filtro])\n"
   ]
  },
  {
   "cell_type": "code",
   "execution_count": null,
   "id": "759fb30a",
   "metadata": {},
   "outputs": [],
   "source": [
    "import pandas as pd\n",
    "\n",
    "df = pd.read_excel('vendas.xlsx')\n",
    "df = df.sort_values(by='Valor Final', ascending=False)\n",
    "display(df.loc[:, ['Produto', 'Valor Final']].head(50))\n",
    "# df.loc[:, ['Name', 'Speed']].max()"
   ]
  },
  {
   "cell_type": "code",
   "execution_count": null,
   "id": "6e5b94fe",
   "metadata": {},
   "outputs": [],
   "source": [
    "import pandas as pd\n",
    "\n",
    "df = pd.read_csv('minecraft.csv')\n",
    "df[df['version'] == 'Paid Version']"
   ]
  },
  {
   "cell_type": "code",
   "execution_count": null,
   "id": "48367e17",
   "metadata": {},
   "outputs": [],
   "source": [
    "import pandas as pd\n",
    "\n",
    "dados = {\n",
    "    'nome': ['Pedro', 'Luiz', 'Mateus', 'Maria', 'João', 'Julia', 'Pedro', 'Marcos', 'Carlos'],\n",
    "    'idade': [12, 45, 23, 15, 34, 50, 35, 10, 46]\n",
    "}\n",
    "df = pd.DataFrame(dados)\n",
    "filtro = df['nome'] == 'Pedro'\n",
    "\n",
    "display(df.count())"
   ]
  },
  {
   "cell_type": "code",
   "execution_count": null,
   "id": "cf2c1c97",
   "metadata": {},
   "outputs": [],
   "source": [
    "import pandas as pd\n",
    "\n",
    "dados = [\n",
    "    ['Pedro', 'Maria', 'Julia'],\n",
    "    [12, 34, 50]\n",
    "] # Os dados num array não possuem nomes de colunas nem índices\n",
    "\n",
    "df = pd.DataFrame(dados)\n",
    "display(df)"
   ]
  },
  {
   "cell_type": "code",
   "execution_count": null,
   "id": "4730d941",
   "metadata": {},
   "outputs": [],
   "source": [
    "import pandas as pd\n",
    "\n",
    "df = pd.read_csv('movies.csv')\n",
    "del df['mpaa_rating'], df['total_gross'], df['inflation_adjusted_gross']\n",
    "display(df['movie_title'].rename('filme'))\n",
    "display(df)"
   ]
  },
  {
   "cell_type": "code",
   "execution_count": null,
   "id": "03ba8fbc",
   "metadata": {},
   "outputs": [],
   "source": [
    "import pandas as pd\n",
    "\n",
    "df = pd.read_csv('pokemon.csv')\n",
    "df.insert(5, 'Generation', df.pop('Generation'))\n",
    "\n",
    "display(df)"
   ]
  },
  {
   "cell_type": "code",
   "execution_count": null,
   "id": "e37d1e58",
   "metadata": {},
   "outputs": [],
   "source": [
    "# Crie uma coluna Temperatura_media que seja a média entre Temperatura_max e Temperatura_min.\n",
    "# Mostre as cidades onde a umidade é maior que 75.\n",
    "# Adicione uma coluna Clima_quente que seja True se a Temperatura_media for maior que 30, senão False.\n",
    "import pandas as pd\n",
    "\n",
    "dados = {\n",
    "    'Cidade': ['São Paulo', 'Rio de Janeiro', 'Curitiba', 'Salvador', 'Fortaleza'],\n",
    "    'Temperatura_max': [32, 34, 28, 31, 33],\n",
    "    'Temperatura_min': [22, 24, 17, 23, 25],\n",
    "    'Umidade': [70, 65, 80, 75, 85]\n",
    "}\n",
    "\n",
    "df = pd.DataFrame(dados)\n",
    "display(df)\n",
    "\n",
    "df['Temperatura_media'] = (df['Temperatura_max'] + df['Temperatura_min']) / 2\n",
    "display(df)\n",
    "\n",
    "filtro = df['Umidade'] > 75\n",
    "\n",
    "display(df[filtro])\n",
    "\n",
    "\n",
    "df['Clima_quente'] = df['Temperatura_media'] > 30\n",
    "display(df)"
   ]
  },
  {
   "cell_type": "code",
   "execution_count": null,
   "id": "1634766a",
   "metadata": {},
   "outputs": [],
   "source": [
    "# Crie uma coluna Faturamento calculando Preço_unitario × Quantidade_vendida.\n",
    "# Mostre apenas os produtos com faturamento maior que 10.000.\n",
    "# Calcule o faturamento total (soma de todos os produtos).\n",
    "\n",
    "\n",
    "import pandas as pd\n",
    "\n",
    "dados = {\n",
    "    'Produto': ['Notebook', 'Smartphone', 'Tablet', 'Monitor', 'Teclado'],\n",
    "    'Preço_unitario': [3500, 2500, 1500, 1200, 200],\n",
    "    'Quantidade_vendida': [5, 10, 7, 4, 15]\n",
    "}\n",
    "\n",
    "df = pd.DataFrame(dados)\n",
    "df['Faturamento'] = df['Preço_unitario'] * df['Quantidade_vendida']\n",
    "display(df)\n",
    "\n",
    "filtro = df['Faturamento'] > 10000\n",
    "display(df[filtro])\n",
    "\n",
    "total = df['Faturamento'].sum()\n",
    "print(total)"
   ]
  },
  {
   "cell_type": "code",
   "execution_count": null,
   "id": "4403d6fc",
   "metadata": {},
   "outputs": [],
   "source": [
    "import pandas as pd\n",
    "df = pd.read_csv('pokemon.csv')\n",
    "\n",
    "display(df['Name'].sort_values())"
   ]
  }
 ],
 "metadata": {
  "kernelspec": {
   "display_name": "Python 3",
   "language": "python",
   "name": "python3"
  },
  "language_info": {
   "codemirror_mode": {
    "name": "ipython",
    "version": 3
   },
   "file_extension": ".py",
   "mimetype": "text/x-python",
   "name": "python",
   "nbconvert_exporter": "python",
   "pygments_lexer": "ipython3",
   "version": "3.13.2"
  }
 },
 "nbformat": 4,
 "nbformat_minor": 5
}
