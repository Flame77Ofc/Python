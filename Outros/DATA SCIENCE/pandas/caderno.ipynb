{
 "cells": [
  {
   "cell_type": "code",
   "execution_count": null,
   "id": "246e7ab1",
   "metadata": {},
   "outputs": [],
   "source": [
    "# Trocando a ordem de uma coluna\n",
    "import pandas as pd\n",
    "\n",
    "df = pd.read_csv('csv/minecraft.csv')\n",
    "# df.insert(posição desejada, 'item', df.pop('item'))\n",
    "df.insert(3, 'age', df.pop('age'))\n",
    "\n",
    "display(df)"
   ]
  },
  {
   "cell_type": "code",
   "execution_count": null,
   "id": "e02d16dc",
   "metadata": {},
   "outputs": [],
   "source": [
    "# Ordenação\n",
    "import pandas as pd\n",
    "\n",
    "df = pd.read_csv('csv/movies.csv')\n",
    "# df = df.sort_values(by='coluna', ascending=True(crescente)/False(decrescente), ignore_index=True/False)\n",
    "df = df.sort_values(by='movie_title', ascending=True, ignore_index=True)\n",
    "\n",
    "display(df)"
   ]
  },
  {
   "cell_type": "code",
   "execution_count": null,
   "id": "88b45d6b",
   "metadata": {},
   "outputs": [],
   "source": [
    "# Valores nulos\n",
    "import pandas as pd\n",
    "\n",
    "df1 = pd.DataFrame({\n",
    "    'Time': ['Azul', 'Vermelho', 'Amarelo', 'Verde'],\n",
    "    'Pontuação': [15, 25, 50, 35]\n",
    "})\n",
    "\n",
    "df2 = pd.DataFrame({\n",
    "    'Equipe': ['Vermelho', 'Amarelo', 'Azul', 'Verde'],\n",
    "    'Pontuação': [25, 10, 5, 15]\n",
    "})\n",
    "\n",
    "df = pd.concat([df1, df2], ignore_index=True)\n",
    "display(df)\n",
    "\n",
    "display(df.fillna('---'))\n",
    "display(df.dropna(axis=1))"
   ]
  },
  {
   "cell_type": "code",
   "execution_count": null,
   "id": "1104add2",
   "metadata": {},
   "outputs": [],
   "source": [
    "# Valores duplicados\n",
    "import pandas as pd\n",
    "\n",
    "df = pd.DataFrame({\n",
    "    'produto': ['Calça Jeans', 'Camisa Pollo', 'Calça Jeans', 'Tênis Adidas', 'Camisa Pollo'],\n",
    "    'preço unitário': [45, 90, 45, 150, 90]\n",
    "})\n",
    "display(df)\n",
    "\n",
    "filtro = df.duplicated() # Mostrar os valores duplicados\n",
    "display(df[filtro])\n",
    "\n",
    "filtro = ~(df.duplicated()) # Mostrar os valores não duplicados\n",
    "display(df[filtro])\n",
    "display(df.drop_duplicates()) # Ou simplesmente usar drop_duplicates()\n"
   ]
  },
  {
   "cell_type": "code",
   "execution_count": null,
   "id": "c2d038ee",
   "metadata": {},
   "outputs": [],
   "source": [
    "# Replace -> Trocando de lugar\n",
    "import pandas as pd\n",
    "\n",
    "df = pd.DataFrame({\n",
    "    'Time': ['Blue', 'Verde', 'Vermelho'],\n",
    "    'Pontuação': [25, 50, 30]\n",
    "})\n",
    "\n",
    "df = df.replace('Blue', 'Azul')\n",
    "\n",
    "display(df)"
   ]
  }
 ],
 "metadata": {
  "kernelspec": {
   "display_name": "base",
   "language": "python",
   "name": "python3"
  },
  "language_info": {
   "codemirror_mode": {
    "name": "ipython",
    "version": 3
   },
   "file_extension": ".py",
   "mimetype": "text/x-python",
   "name": "python",
   "nbconvert_exporter": "python",
   "pygments_lexer": "ipython3",
   "version": "3.12.7"
  }
 },
 "nbformat": 4,
 "nbformat_minor": 5
}
