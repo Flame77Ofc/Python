{
 "cells": [
  {
   "cell_type": "code",
   "execution_count": null,
   "id": "09962a34",
   "metadata": {},
   "outputs": [],
   "source": [
    "import colorama\n",
    "from colorama import Fore, Style\n",
    "\n",
    "colorama.init(autoreset=True)\n",
    "\n",
    "print('BOT'.center(50, '-'))\n",
    "\n",
    "print(f\"O que deseja fazer hoje?\")\n",
    "print(Style.BRIGHT + Fore.BLUE + \"1 - Ver a temperatura atual\")\n",
    "print(\"2 - Verificar preços de um produto do mercado livre\")\n",
    "print(Style.BRIGHT + Fore.BLUE + \"3 - Ver as notícias do dia\")\n",
    "print(\"4 - Ver as notícias sobre Astronomia, Tecnologia e História\")\n",
    "print(Style.BRIGHT + Fore.BLUE + \"5 - Ver a programação de canais de TV - SBT e GLOBO\")\n",
    "print(\"6 - Fazer uma pesquisa na wikipédia\")\n",
    "print(Style.BRIGHT + Fore.BLUE + \"7 - Procurar livros [z-library]\")\n",
    "\n",
    "menu = int(input(\"Digite:\\n>>>\"))\n",
    "while menu not in range(1, 8):\n",
    "    menu = int(input(\"Digite novamente.\\n>>>\"))\n",
    "\n",
    "if menu == 1:\n",
    "    from main.clima import main\n",
    "elif menu == 2:\n",
    "    from main.mercado_livre import mercado_livre\n",
    "    mercado_livre.produtos(input(\"Digite o produto que deseja pesquisar:\\n>>>\"))\n",
    "elif menu == 3:\n",
    "    from main.noticias import main\n",
    "elif menu == 4:\n",
    "    from main.noticias_conhecimento import main\n",
    "elif menu == 5:\n",
    "    from main.programas import main\n",
    "elif menu == 6:\n",
    "    from main.wikipedia import main\n",
    "elif menu == 7:\n",
    "    print('Manutenção---⛔')\n",
    "    # from main.zlibrary import main"
   ]
  }
 ],
 "metadata": {
  "kernelspec": {
   "display_name": "Python 3",
   "language": "python",
   "name": "python3"
  },
  "language_info": {
   "codemirror_mode": {
    "name": "ipython",
    "version": 3
   },
   "file_extension": ".py",
   "mimetype": "text/x-python",
   "name": "python",
   "nbconvert_exporter": "python",
   "pygments_lexer": "ipython3",
   "version": "3.13.2"
  }
 },
 "nbformat": 4,
 "nbformat_minor": 5
}
